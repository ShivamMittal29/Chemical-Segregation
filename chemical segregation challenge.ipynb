{
 "cells": [
  {
   "cell_type": "code",
   "execution_count": 1,
   "metadata": {
    "collapsed": true
   },
   "outputs": [],
   "source": [
    "import pandas as pd\n",
    "import matplotlib.pyplot as plt\n",
    "import numpy as np\n"
   ]
  },
  {
   "cell_type": "code",
   "execution_count": 2,
   "metadata": {
    "collapsed": true
   },
   "outputs": [],
   "source": [
    "X=pd.read_csv(r\"C:\\Users\\bKIIT\\Desktop\\projects\\logistic regression\\chemical segregation/Logistic_X_train.csv\").values\n",
    "Y=pd.read_csv(r\"C:\\Users\\KIIT\\Desktop\\projects\\logistic regression\\chemical segregation/Logistic_Y_train.csv\").values\n",
    "X_test=pd.read_csv(r\"C:\\Users\\KIIT\\Desktop\\projects\\logistic regression\\chemical segregation/Logistic_X_test.csv\").values"
   ]
  },
  {
   "cell_type": "code",
   "execution_count": 3,
   "metadata": {
    "collapsed": false
   },
   "outputs": [
    {
     "name": "stdout",
     "output_type": "stream",
     "text": [
      "(3000, 3)\n"
     ]
    }
   ],
   "source": [
    "print(X.shape)"
   ]
  },
  {
   "cell_type": "code",
   "execution_count": 4,
   "metadata": {
    "collapsed": false
   },
   "outputs": [
    {
     "name": "stdout",
     "output_type": "stream",
     "text": [
      "(3000, 1)\n"
     ]
    }
   ],
   "source": [
    "print(Y.shape)"
   ]
  },
  {
   "cell_type": "code",
   "execution_count": 5,
   "metadata": {
    "collapsed": false
   },
   "outputs": [
    {
     "data": {
      "text/plain": [
       "(3000, 4)"
      ]
     },
     "execution_count": 5,
     "metadata": {},
     "output_type": "execute_result"
    }
   ],
   "source": [
    "m,n=X.shape;\n",
    "X=np.hstack((np.ones((m,1)),X));\n",
    "X.shape"
   ]
  },
  {
   "cell_type": "code",
   "execution_count": 6,
   "metadata": {
    "collapsed": true
   },
   "outputs": [],
   "source": [
    "def sigmoid(z):\n",
    "    \n",
    "   \n",
    "    return 1.0/(1.0+np.exp(-z));\n",
    "\n",
    "def hypothesis(X,theta):\n",
    "    hx=np.dot(X,theta);\n",
    "    return sigmoid(hx);\n",
    "\n",
    "def error(X,theta,y):\n",
    "    hx=hypothesis(X,theta);\n",
    "    err=y*np.log2(hx)+(1-y)*np.log2(1-hx);\n",
    "    return -err.sum()/m;\n",
    "\n",
    "def Gradient(X,theta,y):\n",
    "    hx=hypothesis(X,theta);\n",
    "    return np.dot(X.T,(hx-y))/X.shape[0];\n",
    "\n",
    "def GradientDescent(X,y,iteration=500,alpha=0.1):\n",
    "    err=[];\n",
    "    theta=np.zeros((X.shape[1],1));\n",
    "    for i in range(iteration):\n",
    "        stepsize=alpha*Gradient(X,theta,y);\n",
    "        theta=theta-stepsize;\n",
    "        e=error(X,theta,y);\n",
    "        err.append(e);\n",
    "    \n",
    "    return err,theta;"
   ]
  },
  {
   "cell_type": "code",
   "execution_count": 9,
   "metadata": {
    "collapsed": false
   },
   "outputs": [
    {
     "data": {
      "image/png": "[encoded data removed]",
      "text/plain": [
       "<matplotlib.figure.Figure at 0x2b2a6fbb6d8>"
      ]
     },
     "metadata": {},
     "output_type": "display_data"
    }
   ],
   "source": [
    "loss,best_theta=GradientDescent(X,Y);\n",
    "plt.plot(loss);\n",
    "plt.show()"
   ]
  },
  {
   "cell_type": "code",
   "execution_count": 10,
   "metadata": {
    "collapsed": true
   },
   "outputs": [],
   "source": [
    "X_test=np.hstack((np.ones((X_test.shape[0],1)),X_test));"
   ]
  },
  {
   "cell_type": "code",
   "execution_count": 12,
   "metadata": {
    "collapsed": false
   },
   "outputs": [
    {
     "name": "stdout",
     "output_type": "stream",
     "text": [
      "(1000, 1) 1000\n"
     ]
    }
   ],
   "source": [
    "Y_output=hypothesis(X_test,best_theta);\n",
    "Y_Predict=[];\n",
    "for i in  Y_output :\n",
    "    if(i<0.5):\n",
    "        Y_Predict.append(0);\n",
    "    else:\n",
    "        Y_Predict.append(1);\n",
    "    \n",
    "print(Y_output.shape,len(Y_Predict))\n",
    "Y_test=np.array(Y_Predict);\n",
    "\n",
    "df=pd.DataFrame(Y_test,columns=[\"label\"]);\n",
    "df.head()\n",
    "# df.to_csv?\n",
    "df.to_csv(\"submission.csv\",index= False);"
   ]
  }
 ],
 "metadata": {
  "anaconda-cloud": {},
  "kernelspec": {
   "display_name": "Python [default]",
   "language": "python",
   "name": "python3"
  },
  "language_info": {
   "codemirror_mode": {
    "name": "ipython",
    "version": 3
   },
   "file_extension": ".py",
   "mimetype": "text/x-python",
   "name": "python",
   "nbconvert_exporter": "python",
   "pygments_lexer": "ipython3",
   "version": "3.5.2"
  }
 },
 "nbformat": 4,
 "nbformat_minor": 1
}
